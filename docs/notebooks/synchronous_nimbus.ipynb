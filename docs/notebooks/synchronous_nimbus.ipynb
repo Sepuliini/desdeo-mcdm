{
 "cells": [
  {
   "cell_type": "markdown",
   "execution_count": null,
   "metadata": {},
   "outputs": [],
   "source": [
    "# Example on the usage of NIMBUS\n",
    "This notebook will go through a simple example to illustrate how the synchronous variant of NIMBUS has been implemented in the DESDEO framework.\n",
    "\n",
    "We will be solving the Kursawe function originally defined in [this article](http://citeseerx.ist.psu.edu/viewdoc/download?doi=10.1.1.47.8050&rep=rep1&type=pdf)\n",
    "\n",
    "Let us begin by importing some libraries and defining the problem."
   ]
  },
  {
   "cell_type": "code",
   "execution_count": null,
   "metadata": {},
   "outputs": [],
   "source": [
    "import numpy as np\n",
    "\n",
    "import matplotlib.pyplot as plt\n",
    "from desdeo_problem.Problem import MOProblem\n",
    "from desdeo_problem.Variable import variable_builder\n",
    "from desdeo_problem.Objective import _ScalarObjective\n",
    "\n",
    "def f_1(xs: np.ndarray):\n",
    "    xs = np.atleast_2d(xs)\n",
    "    xs_plusone = np.roll(xs, 1, axis=1)\n",
    "    return np.sum(-10*np.exp(-0.2*np.sqrt(xs[:, :-1]**2 + xs_plusone[:, :-1]**2)), axis=1)\n",
    "\n",
    "def f_2(xs: np.ndarray):\n",
    "    xs = np.atleast_2d(xs)\n",
    "    return np.sum(np.abs(xs)**0.8 + 5*np.sin(xs**3), axis=1)\n",
    "\n",
    "\n",
    "varsl = variable_builder(\n",
    "    [\"x_1\", \"x_2\", \"x_3\"],\n",
    "    initial_values=[0, 0, 0],\n",
    "    lower_bounds=[-5, -5, -5],\n",
    "    upper_bounds=[5, 5, 5],\n",
    ")\n",
    "\n",
    "f1 = _ScalarObjective(name=\"f1\", evaluator=f_1)\n",
    "f2 = _ScalarObjective(name=\"f2\", evaluator=f_2)\n",
    "\n",
    "problem = MOProblem(variables=varsl, objectives=[f1, f2], ideal=np.array([-20, -12]), nadir=np.array([-14, 0.5]))"
   ]
  },
  {
   "cell_type": "markdown",
   "execution_count": null,
   "metadata": {},
   "outputs": [],
   "source": [
    "To check out problem, let us compute a representation of the Pareto optimal front of solutions:"
   ]
  },
  {
   "cell_type": "code",
   "execution_count": null,
   "metadata": {},
   "outputs": [],
   "source": [
    "from desdeo_mcdm.utilities.solvers import solve_pareto_front_representation\n",
    "\n",
    "p_front = solve_pareto_front_representation(problem, step=1.0)[1]\n",
    "\n",
    "plt.scatter(p_front[:, 0], p_front[:, 1], label=\"Pareto front\")\n",
    "plt.scatter(problem.ideal[0], problem.ideal[1], label=\"Ideal\")\n",
    "plt.scatter(problem.nadir[0], problem.nadir[1], label=\"Nadir\")\n",
    "plt.xlabel(\"f1\")\n",
    "plt.ylabel(\"f2\")\n",
    "plt.title(\"Approximate Pareto front of the Kursawe function\")\n",
    "plt.legend()\n",
    "plt.show()"
   ]
  },
  {
   "cell_type": "markdown",
   "execution_count": null,
   "metadata": {},
   "outputs": [],
   "source": [
    "Now we can get to the NIMBUS part. Let us define an instance of the NIMBUS method utilizing our problem defined earlier, and start by invoking the instance's `start` method:"
   ]
  },
  {
   "cell_type": "code",
   "execution_count": null,
   "metadata": {},
   "outputs": [],
   "source": [
    "from desdeo_mcdm.interactive.NIMBUS import NIMBUS\n",
    "\n",
    "method = NIMBUS(problem, \"scipy_de\")\n",
    "\n",
    "classification_request, plot_request = method.start()"
   ]
  },
  {
   "cell_type": "markdown",
   "execution_count": null,
   "metadata": {},
   "outputs": [],
   "source": [
    "Let us look at the keys in the dictionary contained in the `classification_request`:"
   ]
  },
  {
   "cell_type": "code",
   "execution_count": null,
   "metadata": {},
   "outputs": [],
   "source": [
    "print(classification_request.content.keys())"
   ]
  },
  {
   "cell_type": "markdown",
   "execution_count": null,
   "metadata": {},
   "outputs": [],
   "source": [
    "Message should give us some more information:"
   ]
  },
  {
   "cell_type": "code",
   "execution_count": null,
   "metadata": {},
   "outputs": [],
   "source": [
    "print(classification_request.content[\"message\"])"
   ]
  },
  {
   "cell_type": "markdown",
   "execution_count": null,
   "metadata": {},
   "outputs": [],
   "source": [
    "We should therefore classify each of the objectives found beind the `objective_values` -key in the dictionary in `classification_request.content`. Let's print them:"
   ]
  },
  {
   "cell_type": "code",
   "execution_count": null,
   "metadata": {},
   "outputs": [],
   "source": [
    "print(classification_request.content[\"objective_values\"])"
   ]
  },
  {
   "cell_type": "markdown",
   "execution_count": null,
   "metadata": {},
   "outputs": [],
   "source": [
    "Instead of printing the values, we could have also used the `plot_request` object. However, we are inspecting only one set of objective values for the time being, so a raw print of the values should be enough. Let us classify the objective values next. We can get a hint of what the classification should look like by inspecting the value found using the `classifications` -key in `classification_request.content`:"
   ]
  },
  {
   "cell_type": "code",
   "execution_count": null,
   "metadata": {},
   "outputs": [],
   "source": [
    "print(classification_request.content[\"classifications\"])"
   ]
  },
  {
   "cell_type": "markdown",
   "execution_count": null,
   "metadata": {},
   "outputs": [],
   "source": [
    "Therefore it should be a list. Suppose we wish to improve (decrease in value) the first objective, and impair (increase in value) the second objective till some upper bound is reached. We should define our preferences as a dictionary `classification_request.response` with the keys `classifications` and `number_of_solutions` (we have to define the number of new solutions we wish to compute). The key `levels` will contain the upper bound for the second objective."
   ]
  },
  {
   "cell_type": "code",
   "execution_count": null,
   "metadata": {},
   "outputs": [],
   "source": [
    "response = {\n",
    "    \"classifications\": [\"<\", \">=\"],\n",
    "    \"number_of_solutions\": 3,\n",
    "    \"levels\": [0, -5]\n",
    "}\n",
    "classification_request.response = response"
   ]
  },
  {
   "cell_type": "markdown",
   "execution_count": null,
   "metadata": {},
   "outputs": [],
   "source": [
    "To continue, just feed `classification_request` back to the method through the `step` method:"
   ]
  },
  {
   "cell_type": "code",
   "execution_count": null,
   "metadata": {},
   "outputs": [],
   "source": [
    "save_request, plot_request = method.iterate(classification_request)"
   ]
  },
  {
   "cell_type": "markdown",
   "execution_count": null,
   "metadata": {},
   "outputs": [],
   "source": [
    "We got a new request as a response. Let us inspect it:"
   ]
  },
  {
   "cell_type": "code",
   "execution_count": null,
   "metadata": {},
   "outputs": [],
   "source": [
    "print(save_request.content.keys())\n",
    "print(save_request.content[\"message\"])\n",
    "print(save_request.content[\"objectives\"])"
   ]
  },
  {
   "cell_type": "markdown",
   "execution_count": null,
   "metadata": {},
   "outputs": [],
   "source": [
    "Suppose the first and last solutions result in nice objective values."
   ]
  },
  {
   "cell_type": "code",
   "execution_count": null,
   "metadata": {},
   "outputs": [],
   "source": [
    "response = {\"indices\": [0, 2]}\n",
    "save_request.response = response\n",
    "\n",
    "intermediate_request, plot_request = method.iterate(save_request)"
   ]
  },
  {
   "cell_type": "code",
   "execution_count": null,
   "metadata": {},
   "outputs": [],
   "source": [
    "print(intermediate_request.content.keys())\n",
    "print(intermediate_request.content[\"message\"])"
   ]
  },
  {
   "cell_type": "markdown",
   "execution_count": null,
   "metadata": {},
   "outputs": [],
   "source": [
    "We do not desire to see intermediate results."
   ]
  },
  {
   "cell_type": "code",
   "execution_count": null,
   "metadata": {},
   "outputs": [],
   "source": [
    "response = {\"number_of_desired_solutions\": 0, \"indices\": []}\n",
    "intermediate_request.response = response\n",
    "\n",
    "preferred_request, plot_request = method.iterate(intermediate_request)"
   ]
  },
  {
   "cell_type": "code",
   "execution_count": null,
   "metadata": {},
   "outputs": [],
   "source": [
    "print(preferred_request.content.keys())\n",
    "print(preferred_request.content[\"message\"])"
   ]
  },
  {
   "cell_type": "markdown",
   "execution_count": null,
   "metadata": {},
   "outputs": [],
   "source": [
    "We should select our most preferred solution. Let us plot the objective values to inspect them better:"
   ]
  },
  {
   "cell_type": "code",
   "execution_count": null,
   "metadata": {},
   "outputs": [],
   "source": [
    "plt.scatter(p_front[:, 0], p_front[:, 1], label=\"Pareto front\")\n",
    "plt.scatter(problem.ideal[0], problem.ideal[1], label=\"Ideal\")\n",
    "plt.scatter(problem.nadir[0], problem.nadir[1], label=\"Nadir\")\n",
    "for i, z in enumerate(preferred_request.content[\"objectives\"]):\n",
    "    plt.scatter(z[0], z[1], label=f\"solution {i}\")\n",
    "plt.xlabel(\"f1\")\n",
    "plt.ylabel(\"f2\")\n",
    "plt.title(\"Approximate Pareto front of the Kursawe function\")\n",
    "plt.legend()\n",
    "plt.show()"
   ]
  },
  {
   "cell_type": "markdown",
   "execution_count": null,
   "metadata": {},
   "outputs": [],
   "source": [
    "Solutions at indices 0 and 2 seem to be overlapping in the objective space. We decide to select the solution at index 1, and to continue the iterations."
   ]
  },
  {
   "cell_type": "code",
   "execution_count": null,
   "metadata": {},
   "outputs": [],
   "source": [
    "response = {\"index\": 1, \"continue\": True}\n",
    "preferred_request.response = response\n",
    "\n",
    "classification_request, plot_request = method.iterate(preferred_request)"
   ]
  },
  {
   "cell_type": "markdown",
   "execution_count": null,
   "metadata": {},
   "outputs": [],
   "source": [
    "Back at the classification pahse of the NIMBUS method."
   ]
  },
  {
   "cell_type": "code",
   "execution_count": null,
   "metadata": {},
   "outputs": [],
   "source": [
    "response = {\n",
    "    \"classifications\": [\">=\", \"<\"],\n",
    "    \"number_of_solutions\": 4,\n",
    "    \"levels\": [-16, -1]\n",
    "}\n",
    "classification_request.response = response\n",
    "\n",
    "save_request, plot_request = method.iterate(classification_request)"
   ]
  },
  {
   "cell_type": "markdown",
   "execution_count": null,
   "metadata": {},
   "outputs": [],
   "source": [
    "Let us plot some of the solutions again:"
   ]
  },
  {
   "cell_type": "code",
   "execution_count": null,
   "metadata": {},
   "outputs": [],
   "source": [
    "plt.scatter(p_front[:, 0], p_front[:, 1], label=\"Pareto front\")\n",
    "plt.scatter(problem.ideal[0], problem.ideal[1], label=\"Ideal\")\n",
    "plt.scatter(problem.nadir[0], problem.nadir[1], label=\"Nadir\")\n",
    "for i, z in enumerate(save_request.content[\"objectives\"]):\n",
    "    plt.scatter(z[0], z[1], label=f\"solution {i}\")\n",
    "plt.xlabel(\"f1\")\n",
    "plt.ylabel(\"f2\")\n",
    "plt.title(\"Approximate Pareto front of the Kursawe function\")\n",
    "plt.legend()\n",
    "plt.show()"
   ]
  },
  {
   "cell_type": "markdown",
   "execution_count": null,
   "metadata": {},
   "outputs": [],
   "source": [
    "NIMBUS really took to heart our request to detoriate the first objective... Suppose we like all of the solutions:"
   ]
  },
  {
   "cell_type": "code",
   "execution_count": null,
   "metadata": {},
   "outputs": [],
   "source": [
    "response = {\"indices\": [0, 1, 2, 3]}\n",
    "save_request.response = response\n",
    "\n",
    "intermediate_request, plot_request = method.iterate(save_request)"
   ]
  },
  {
   "cell_type": "markdown",
   "execution_count": null,
   "metadata": {},
   "outputs": [],
   "source": [
    "Let us plot everything we have so far:"
   ]
  },
  {
   "cell_type": "code",
   "execution_count": null,
   "metadata": {},
   "outputs": [],
   "source": [
    "plt.scatter(p_front[:, 0], p_front[:, 1], label=\"Pareto front\")\n",
    "plt.scatter(problem.ideal[0], problem.ideal[1], label=\"Ideal\")\n",
    "plt.scatter(problem.nadir[0], problem.nadir[1], label=\"Nadir\")\n",
    "for i, z in enumerate(intermediate_request.content[\"objectives\"]):\n",
    "    plt.scatter(z[0], z[1], label=f\"solution {i}\")\n",
    "plt.xlabel(\"f1\")\n",
    "plt.ylabel(\"f2\")\n",
    "plt.title(\"Approximate Pareto front of the Kursawe function\")\n",
    "plt.legend()\n",
    "plt.show()"
   ]
  },
  {
   "cell_type": "markdown",
   "execution_count": null,
   "metadata": {},
   "outputs": [],
   "source": [
    "Assume we really like what we have between solution 3 and 4. Let NIMBUS compute 3 intermediate solutions between them:"
   ]
  },
  {
   "cell_type": "code",
   "execution_count": null,
   "metadata": {},
   "outputs": [],
   "source": [
    "response = {\n",
    "    \"indices\": [3, 4],\n",
    "    \"number_of_desired_solutions\": 3,\n",
    "    }\n",
    "intermediate_request.response = response\n",
    "\n",
    "save_request, plot_request = method.iterate(intermediate_request)"
   ]
  },
  {
   "cell_type": "markdown",
   "execution_count": null,
   "metadata": {},
   "outputs": [],
   "source": [
    "Plot the intermediate solutions:"
   ]
  },
  {
   "cell_type": "code",
   "execution_count": null,
   "metadata": {},
   "outputs": [],
   "source": [
    "plt.scatter(p_front[:, 0], p_front[:, 1], label=\"Pareto front\")\n",
    "plt.scatter(problem.ideal[0], problem.ideal[1], label=\"Ideal\")\n",
    "plt.scatter(problem.nadir[0], problem.nadir[1], label=\"Nadir\")\n",
    "for i, z in enumerate(save_request.content[\"objectives\"]):\n",
    "    plt.scatter(z[0], z[1], label=f\"solution {i}\")\n",
    "plt.xlabel(\"f1\")\n",
    "plt.ylabel(\"f2\")\n",
    "plt.title(\"Approximate Pareto front of the Kursawe function\")\n",
    "plt.legend()\n",
    "plt.show()"
   ]
  },
  {
   "cell_type": "markdown",
   "execution_count": null,
   "metadata": {},
   "outputs": [],
   "source": [
    "Nice, we are really getting there, even if we have no goal set... Let us save solution 1:"
   ]
  },
  {
   "cell_type": "code",
   "execution_count": null,
   "metadata": {},
   "outputs": [],
   "source": [
    "response = {\"indices\": [1]}\n",
    "save_request.response = response\n",
    "\n",
    "intermediate_request, plot_request = method.iterate(save_request)"
   ]
  },
  {
   "cell_type": "markdown",
   "execution_count": null,
   "metadata": {},
   "outputs": [],
   "source": [
    "We do not wish to generate any more intermediate solutions."
   ]
  },
  {
   "cell_type": "code",
   "execution_count": null,
   "metadata": {},
   "outputs": [],
   "source": [
    "response = {\"number_of_desired_solutions\": 0, \"indices\": []}\n",
    "intermediate_request.response = response\n",
    "\n",
    "preferred_request, plot_request = method.iterate(intermediate_request)"
   ]
  },
  {
   "cell_type": "markdown",
   "execution_count": null,
   "metadata": {},
   "outputs": [],
   "source": [
    "Let us plot everything we have, and select a final solution:"
   ]
  },
  {
   "cell_type": "code",
   "execution_count": null,
   "metadata": {},
   "outputs": [],
   "source": [
    "plt.scatter(p_front[:, 0], p_front[:, 1], label=\"Pareto front\")\n",
    "plt.scatter(problem.ideal[0], problem.ideal[1], label=\"Ideal\")\n",
    "plt.scatter(problem.nadir[0], problem.nadir[1], label=\"Nadir\")\n",
    "for i, z in enumerate(preferred_request.content[\"objectives\"]):\n",
    "    plt.scatter(z[0], z[1], label=f\"solution {i}\")\n",
    "plt.xlabel(\"f1\")\n",
    "plt.ylabel(\"f2\")\n",
    "plt.title(\"Approximate Pareto front of the Kursawe function\")\n",
    "plt.legend()\n",
    "plt.show()"
   ]
  },
  {
   "cell_type": "markdown",
   "execution_count": null,
   "metadata": {},
   "outputs": [],
   "source": [
    "We REALLY like solution 6, so let us go with that:"
   ]
  },
  {
   "cell_type": "code",
   "execution_count": null,
   "metadata": {},
   "outputs": [],
   "source": [
    "response = {\n",
    "    \"index\": 6,\n",
    "    \"continue\": False,\n",
    "    }\n",
    "\n",
    "preferred_request.response = response\n",
    "\n",
    "print(\"hello\")\n",
    "print(preferred_request)\n",
    "\n",
    "stop_request, plot_request = method.iterate(preferred_request)\n",
    "\n",
    "print(stop_request)"
   ]
  },
  {
   "cell_type": "markdown",
   "execution_count": null,
   "metadata": {},
   "outputs": [],
   "source": [
    "We are done, let us bask in the glory of the solution found:"
   ]
  },
  {
   "cell_type": "code",
   "execution_count": null,
   "metadata": {},
   "outputs": [],
   "source": [
    "print(f\"Final decision variables: {stop_request.content['solution']}\")\n",
    "\n",
    "plt.scatter(p_front[:, 0], p_front[:, 1], label=\"Pareto front\")\n",
    "plt.scatter(problem.ideal[0], problem.ideal[1], label=\"Ideal\")\n",
    "plt.scatter(problem.nadir[0], problem.nadir[1], label=\"Nadir\")\n",
    "plt.scatter(stop_request.content[\"objective\"][0], stop_request.content[\"objective\"][1], label=f\"final solution\")\n",
    "plt.xlabel(\"f1\")\n",
    "plt.ylabel(\"f2\")\n",
    "plt.title(\"Approximate Pareto front of the Kursawe function\")\n",
    "plt.legend()\n",
    "plt.show()"
   ]
  }
 ],
 "metadata": {
  "file_extension": ".py",
  "kernelspec": {
   "display_name": "Python 3.8.2 64-bit ('desdeo-mcdm-fREJOGIY-py3.8': venv)",
   "name": "python38264bitdesdeomcdmfrejogiypy38venv39e6a129d83a4e43b2dca7a1cf7e9787"
  },
  "language_info": {
   "codemirror_mode": {
    "name": "ipython",
    "version": 3
   },
   "name": "python",
   "version": "3.8.2-final"
  },
  "mimetype": "text/x-python",
  "name": "python",
  "npconvert_exporter": "python",
  "pygments_lexer": "ipython3",
  "version": 3
 },
 "nbformat": 4,
 "nbformat_minor": 2
}
